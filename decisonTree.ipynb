{
 "cells": [
  {
   "cell_type": "code",
   "execution_count": 4,
   "metadata": {},
   "outputs": [
    {
     "name": "stdout",
     "output_type": "stream",
     "text": [
      "Accuracy: 0.9106666666666666\n",
      "\n",
      "Classification Report:\n",
      "               precision    recall  f1-score   support\n",
      "\n",
      "           0       0.92      0.97      0.94      6990\n",
      "           1       0.86      0.72      0.78      2010\n",
      "\n",
      "    accuracy                           0.91      9000\n",
      "   macro avg       0.89      0.84      0.86      9000\n",
      "weighted avg       0.91      0.91      0.91      9000\n",
      "\n",
      "\n",
      "Confusion Matrix:\n",
      " [[6755  235]\n",
      " [ 569 1441]]\n"
     ]
    }
   ],
   "source": [
    "import pandas as pd\n",
    "from sklearn.model_selection import train_test_split\n",
    "from sklearn.preprocessing import OneHotEncoder, StandardScaler\n",
    "from sklearn.tree import DecisionTreeClassifier\n",
    "from sklearn.pipeline import Pipeline\n",
    "from sklearn.compose import ColumnTransformer\n",
    "from sklearn.metrics import classification_report, accuracy_score, confusion_matrix\n",
    "from sklearn.impute import SimpleImputer\n",
    "\n",
    "# Load the dataset\n",
    "data = pd.read_csv('loan_data.csv')\n",
    "\n",
    "# Separate features and target\n",
    "X = data.drop('loan_status', axis=1)\n",
    "y = data['loan_status']\n",
    "\n",
    "# Preprocessing for numerical and categorical features\n",
    "numeric_features = ['person_age', 'person_income', 'person_emp_exp', 'loan_amnt', 'loan_int_rate', \n",
    "                    'loan_percent_income', 'cb_person_cred_hist_length', 'credit_score']\n",
    "categorical_features = ['person_gender', 'person_education', 'person_home_ownership', \n",
    "                        'loan_intent', 'previous_loan_defaults_on_file']\n",
    "\n",
    "# Pipeline for numerical features: imputation and scaling\n",
    "numeric_transformer = Pipeline(steps=[\n",
    "    ('imputer', SimpleImputer(strategy='median')),\n",
    "    ('scaler', StandardScaler())])\n",
    "\n",
    "# Pipeline for categorical features: imputation and one-hot encoding\n",
    "categorical_transformer = Pipeline(steps=[\n",
    "    ('imputer', SimpleImputer(strategy='constant', fill_value='missing')),\n",
    "    ('onehot', OneHotEncoder(handle_unknown='ignore'))])\n",
    "\n",
    "# Combine transformers\n",
    "preprocessor = ColumnTransformer(\n",
    "    transformers=[\n",
    "        ('num', numeric_transformer, numeric_features),\n",
    "        ('cat', categorical_transformer, categorical_features)])\n",
    "\n",
    "# Create a pipeline with preprocessor and DecisionTreeClassifier\n",
    "clf = Pipeline(steps=[\n",
    "    ('preprocessor', preprocessor),\n",
    "    ('classifier', DecisionTreeClassifier(max_depth=5, min_samples_split=10, \n",
    "                                          criterion='gini', random_state=42))\n",
    "])\n",
    "\n",
    "# Split the data into training and testing sets\n",
    "X_train, X_test, y_train, y_test = train_test_split(X, y, test_size=0.2, random_state=42)\n",
    "\n",
    "# Train the model\n",
    "clf.fit(X_train, y_train)\n",
    "\n",
    "# Make predictions\n",
    "y_pred = clf.predict(X_test)\n",
    "\n",
    "# Evaluate the model\n",
    "print(\"Accuracy:\", accuracy_score(y_test, y_pred))\n",
    "print(\"\\nClassification Report:\\n\", classification_report(y_test, y_pred))\n",
    "print(\"\\nConfusion Matrix:\\n\", confusion_matrix(y_test, y_pred))\n"
   ]
  },
  {
   "cell_type": "code",
   "execution_count": 5,
   "metadata": {},
   "outputs": [
    {
     "data": {
      "text/plain": [
       "['loan_decision_tree_model.joblib']"
      ]
     },
     "execution_count": 5,
     "metadata": {},
     "output_type": "execute_result"
    }
   ],
   "source": [
    "import joblib\n",
    "\n",
    "# Save the trained model to a file\n",
    "joblib.dump(clf, 'loan_decision_tree_model.joblib')\n"
   ]
  },
  {
   "cell_type": "code",
   "execution_count": 7,
   "metadata": {},
   "outputs": [
    {
     "name": "stdout",
     "output_type": "stream",
     "text": [
      "Please provide the following information. Type 'skip' if you prefer not to answer.\n",
      "The model suggests that this user should be granted a loan.\n"
     ]
    }
   ],
   "source": [
    "import joblib\n",
    "import numpy as np\n",
    "import pandas as pd\n",
    "\n",
    "# Load the saved model\n",
    "clf = joblib.load('loan_decision_tree_model.joblib')\n",
    "\n",
    "# Define the list of input features and their options\n",
    "features_options = {\n",
    "    'person_age': \"Enter your age (numeric value): \",\n",
    "    'person_gender': \"Select your gender (options: female, male): \",\n",
    "    'person_education': \"Select your education level (options: Master, Bachelor, High School, Associate): \",\n",
    "    'person_income': \"Enter your annual income (numeric value): \",\n",
    "    'person_emp_exp': \"Enter your years of employment experience (numeric value): \",\n",
    "    'person_home_ownership': \"Select your home ownership status (options: RENT, OWN, MORTGAGE): \",\n",
    "    'loan_amnt': \"Enter the loan amount you are requesting (numeric value): \",\n",
    "    'loan_intent': \"Select your loan intent (options: PERSONAL, EDUCATION, MEDICAL, VENTURE): \",\n",
    "    'loan_int_rate': \"Enter the loan interest rate (numeric value): \",\n",
    "    'loan_percent_income': \"Enter the loan percent of your income (numeric value): \",\n",
    "    'cb_person_cred_hist_length': \"Enter your credit history length in months (numeric value): \",\n",
    "    'credit_score': \"Enter your credit score (numeric value): \",\n",
    "    'previous_loan_defaults_on_file': \"Select if you have previous loan defaults (options: Yes, No): \"\n",
    "}\n",
    "\n",
    "# Initialize an empty dictionary to hold user input\n",
    "user_data = {}\n",
    "\n",
    "# Collect user input for each feature\n",
    "print(\"Please provide the following information. Type 'skip' if you prefer not to answer.\")\n",
    "\n",
    "for feature, prompt in features_options.items():\n",
    "    user_input = input(prompt)\n",
    "    if user_input.lower() == 'skip':\n",
    "        user_data[feature] = np.nan  # Use NaN to indicate missing values\n",
    "    else:\n",
    "        # Validate input for categorical features\n",
    "        if feature == 'person_gender' and user_input not in ['female', 'male']:\n",
    "            print(\"Invalid input! Please enter 'female' or 'male'.\")\n",
    "            continue\n",
    "        elif feature == 'person_education' and user_input not in ['Master', 'Bachelor', 'High School', 'Associate']:\n",
    "            print(\"Invalid input! Please enter 'Master', 'Bachelor', 'High School', or 'Associate'.\")\n",
    "            continue\n",
    "        elif feature == 'person_home_ownership' and user_input not in ['RENT', 'OWN', 'MORTGAGE']:\n",
    "            print(\"Invalid input! Please enter 'RENT', 'OWN', or 'MORTGAGE'.\")\n",
    "            continue\n",
    "        elif feature == 'loan_intent' and user_input not in ['PERSONAL', 'EDUCATION', 'MEDICAL', 'VENTURE']:\n",
    "            print(\"Invalid input! Please enter 'PERSONAL', 'EDUCATION', 'MEDICAL', or 'VENTURE'.\")\n",
    "            continue\n",
    "        elif feature == 'previous_loan_defaults_on_file' and user_input not in ['Yes', 'No']:\n",
    "            print(\"Invalid input! Please enter 'Yes' or 'No'.\")\n",
    "            continue\n",
    "        \n",
    "        # Attempt to convert numeric values to the appropriate type\n",
    "        if feature in ['person_age', 'person_income', 'person_emp_exp', 'loan_amnt', \n",
    "                       'loan_int_rate', 'loan_percent_income', 'cb_person_cred_hist_length', \n",
    "                       'credit_score']:\n",
    "            try:\n",
    "                user_data[feature] = float(user_input)\n",
    "            except ValueError:\n",
    "                print(f\"Invalid numeric input for {feature}. Please enter a numeric value.\")\n",
    "                continue\n",
    "        else:\n",
    "            user_data[feature] = user_input\n",
    "\n",
    "# Convert the user data to a DataFrame for compatibility with the model\n",
    "user_df = pd.DataFrame([user_data])\n",
    "\n",
    "# Make a prediction\n",
    "prediction = clf.predict(user_df)[0]\n",
    "\n",
    "# Output the prediction\n",
    "if prediction == 1:\n",
    "    print(\"The model suggests that this user should be granted a loan.\")\n",
    "else:\n",
    "    print(\"The model suggests that this user should not be granted a loan.\")\n"
   ]
  }
 ],
 "metadata": {
  "kernelspec": {
   "display_name": "loan_status_env",
   "language": "python",
   "name": "python3"
  },
  "language_info": {
   "codemirror_mode": {
    "name": "ipython",
    "version": 3
   },
   "file_extension": ".py",
   "mimetype": "text/x-python",
   "name": "python",
   "nbconvert_exporter": "python",
   "pygments_lexer": "ipython3",
   "version": "3.13.0"
  }
 },
 "nbformat": 4,
 "nbformat_minor": 2
}
